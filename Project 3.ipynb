{
 "cells": [
  {
   "cell_type": "code",
   "execution_count": 1,
   "metadata": {
    "ExecuteTime": {
     "end_time": "2021-01-30T05:27:30.531867Z",
     "start_time": "2021-01-30T05:27:28.265906Z"
    }
   },
   "outputs": [],
   "source": [
    "import pandas as pd, numpy as np, matplotlib.pyplot as plt, seaborn as sns\n",
    "\n",
    "sns.set_style(\"darkgrid\")\n",
    "\n",
    "from sklearn.model_selection import GridSearchCV, train_test_split, cross_val_score\n",
    "from sklearn.neighbors import KNeighborsClassifier\n",
    "from sklearn.ensemble import RandomForestClassifier, ExtraTreesClassifier, BaggingClassifier\n",
    "from sklearn.tree import DecisionTreeClassifier\n",
    "from sklearn.pipeline import Pipeline\n",
    "from sklearn.naive_bayes import MultinomialNB\n",
    "from sklearn.linear_model import LogisticRegression\n",
    "from sklearn.metrics import confusion_matrix, plot_confusion_matrix\n",
    "from sklearn.feature_extraction.text import CountVectorizer, TfidfVectorizer\n",
    "from sklearn.feature_extraction import text\n",
    "from sklearn.preprocessing import StandardScaler\n",
    "from sklearn.svm import LinearSVC, SVC\n",
    "import string\n",
    "\n",
    "from nltk.tokenize import sent_tokenize, word_tokenize, RegexpTokenizer\n",
    "from nltk.stem import WordNetLemmatizer\n",
    "from nltk.stem.porter import PorterStemmer\n",
    "from nltk.corpus import stopwords\n",
    "from nltk.sentiment.vader import SentimentIntensityAnalyzer\n",
    "import re\n",
    "\n",
    "from IPython.display import display_html"
   ]
  },
  {
   "cell_type": "code",
   "execution_count": 2,
   "metadata": {
    "ExecuteTime": {
     "end_time": "2021-01-30T05:27:30.715548Z",
     "start_time": "2021-01-30T05:27:30.533861Z"
    }
   },
   "outputs": [],
   "source": [
    "df1 = pd.read_csv('./data/askhistorians_clean.csv')\n",
    "df2 = pd.read_csv('./data/whatif_clean.csv')"
   ]
  },
  {
   "cell_type": "markdown",
   "metadata": {},
   "source": [
    "<h1>Project Three: History, or Story?</h1>"
   ]
  },
  {
   "cell_type": "code",
   "execution_count": 3,
   "metadata": {
    "ExecuteTime": {
     "end_time": "2021-01-30T05:27:30.730509Z",
     "start_time": "2021-01-30T05:27:30.719539Z"
    }
   },
   "outputs": [
    {
     "data": {
      "text/plain": [
       "1    8961\n",
       "Name: whatif, dtype: int64"
      ]
     },
     "execution_count": 3,
     "metadata": {},
     "output_type": "execute_result"
    }
   ],
   "source": [
    "# merge into one dataset with a single column for target\n",
    "df2['whatif'] = 1\n",
    "df2['whatif'].value_counts()"
   ]
  },
  {
   "cell_type": "code",
   "execution_count": 4,
   "metadata": {
    "ExecuteTime": {
     "end_time": "2021-01-30T05:27:30.745469Z",
     "start_time": "2021-01-30T05:27:30.732505Z"
    }
   },
   "outputs": [],
   "source": [
    "# fill the ask-historians entries as 0\n",
    "df1['whatif'] = 0"
   ]
  },
  {
   "cell_type": "code",
   "execution_count": 5,
   "metadata": {
    "ExecuteTime": {
     "end_time": "2021-01-30T05:27:32.774333Z",
     "start_time": "2021-01-30T05:27:30.747465Z"
    }
   },
   "outputs": [],
   "source": [
    "# clean text\n",
    "\n",
    "# function courtesy of Marta Ghiglioni\n",
    "def cleaner(text):\n",
    "    # Make lowercase\n",
    "    text = text.lower()\n",
    "    # Remove HTML special characters\n",
    "    text = re.sub(r'\\&\\w*;', '', text)\n",
    "    # Remove hyperlinks\n",
    "    text = re.sub(r'https?:\\/\\/.*\\/\\w*', '', text)\n",
    "    # Remove punctuation and split\n",
    "    text = re.sub(r'[' + string.punctuation.replace('@', '') + ']+', ' ', text)\n",
    "    # Remove words with 2 or fewer letters\n",
    "    text = re.sub(r'\\b\\w{1,2}\\b', '', text)\n",
    "    # Remove whitespace (including new line characters)\n",
    "    text = re.sub(r'\\s\\s+', ' ', text)\n",
    "    # Remove characters beyond Basic Multilingual Plane\n",
    "    text = ''.join(c for c in text if c <= '\\uFFFF') \n",
    "    return text\n",
    "\n",
    "df1['selftext'] = df1['selftext'].apply(cleaner)\n",
    "df2['selftext'] = df2['selftext'].apply(cleaner)"
   ]
  },
  {
   "cell_type": "code",
   "execution_count": 6,
   "metadata": {
    "ExecuteTime": {
     "end_time": "2021-01-30T05:27:32.804251Z",
     "start_time": "2021-01-30T05:27:32.777323Z"
    }
   },
   "outputs": [],
   "source": [
    "# merge the dataframes\n",
    "df = df1.append(df2)"
   ]
  },
  {
   "cell_type": "code",
   "execution_count": 7,
   "metadata": {
    "ExecuteTime": {
     "end_time": "2021-01-30T05:27:32.835202Z",
     "start_time": "2021-01-30T05:27:32.807245Z"
    }
   },
   "outputs": [],
   "source": [
    "# drop the irrelevant columns\n",
    "df.drop(columns=['Unnamed: 0', 'Unnamed: 0.1', 'subreddit',\n",
    "       'created_utc', 'author', 'num_comments', 'score', 'is_self',\n",
    "       'timestamp'], inplace=True)"
   ]
  },
  {
   "cell_type": "code",
   "execution_count": 8,
   "metadata": {
    "ExecuteTime": {
     "end_time": "2021-01-30T05:27:32.851127Z",
     "start_time": "2021-01-30T05:27:32.837164Z"
    }
   },
   "outputs": [],
   "source": [
    "X = df['selftext']\n",
    "y = df['whatif']"
   ]
  },
  {
   "cell_type": "code",
   "execution_count": 9,
   "metadata": {
    "ExecuteTime": {
     "end_time": "2021-01-30T05:27:32.882045Z",
     "start_time": "2021-01-30T05:27:32.853121Z"
    }
   },
   "outputs": [],
   "source": [
    "# Split the data into the training and testing sets.\n",
    "X_train, X_test, y_train, y_test = train_test_split(X,\n",
    "                                                    y,\n",
    "                                                    test_size=0.4,\n",
    "                                                    stratify=y,\n",
    "                                                    random_state=42)"
   ]
  },
  {
   "cell_type": "code",
   "execution_count": 10,
   "metadata": {
    "ExecuteTime": {
     "end_time": "2021-01-30T05:27:32.911966Z",
     "start_time": "2021-01-30T05:27:32.885038Z"
    }
   },
   "outputs": [
    {
     "data": {
      "text/plain": [
       "0    0.615879\n",
       "1    0.384121\n",
       "Name: whatif, dtype: float64"
      ]
     },
     "execution_count": 10,
     "metadata": {},
     "output_type": "execute_result"
    }
   ],
   "source": [
    "# Baseline accuracy\n",
    "y_test.value_counts(normalize=True)"
   ]
  },
  {
   "cell_type": "code",
   "execution_count": 11,
   "metadata": {
    "ExecuteTime": {
     "end_time": "2021-01-30T05:27:32.927920Z",
     "start_time": "2021-01-30T05:27:32.913958Z"
    }
   },
   "outputs": [],
   "source": [
    "# excluding what and if is going to make this a lot harder, but it feels\n",
    "# like the right thing to do in the spirit of the goal I am aiming at.\n",
    "custom = ['history', 'what', 'if', 'reddit', 'subreddit']\n",
    "combined_words = text.ENGLISH_STOP_WORDS.union(custom)"
   ]
  },
  {
   "cell_type": "code",
   "execution_count": 12,
   "metadata": {
    "ExecuteTime": {
     "end_time": "2021-01-30T05:27:53.272242Z",
     "start_time": "2021-01-30T05:27:32.929916Z"
    }
   },
   "outputs": [
    {
     "name": "stdout",
     "output_type": "stream",
     "text": [
      "KNN, score on training set: 0.8026146592370339, score on test set: 0.6925961641487196.\n"
     ]
    }
   ],
   "source": [
    "knn_cvec = CountVectorizer(analyzer = \"word\",\n",
    "                       preprocessor = None,\n",
    "                       stop_words = combined_words, \n",
    "                       max_features = 500, \n",
    "                       ngram_range = (1, 4)\n",
    "                      )\n",
    "\n",
    "knn = KNeighborsClassifier()\n",
    "\n",
    "knn_sc = StandardScaler(with_mean=False)\n",
    "\n",
    "knn_pipe = Pipeline([\n",
    "    ('cvec', knn_cvec),\n",
    "    ('sc', knn_sc),\n",
    "    ('knn', knn)\n",
    "])\n",
    "\n",
    "knn_pipe.fit(X_train, y_train)\n",
    "\n",
    "knn_train = knn_pipe.score(X_train, y_train)\n",
    "knn_test = knn_pipe.score(X_test, y_test)\n",
    "print(f'KNN, score on training set: {knn_train}, score on test set: {knn_test}.')"
   ]
  },
  {
   "cell_type": "code",
   "execution_count": 13,
   "metadata": {
    "ExecuteTime": {
     "end_time": "2021-01-30T05:27:58.483992Z",
     "start_time": "2021-01-30T05:27:53.274236Z"
    }
   },
   "outputs": [
    {
     "data": {
      "text/plain": [
       "<sklearn.metrics._plot.confusion_matrix.ConfusionMatrixDisplay at 0x237ebce8f70>"
      ]
     },
     "execution_count": 13,
     "metadata": {},
     "output_type": "execute_result"
    },
    {
     "data": {
      "image/png": "[encoded data removed]",
      "text/plain": [
       "<Figure size 432x288 with 2 Axes>"
      ]
     },
     "metadata": {},
     "output_type": "display_data"
    }
   ],
   "source": [
    "plot_confusion_matrix(knn_pipe, X_test, y_test)"
   ]
  },
  {
   "cell_type": "code",
   "execution_count": 25,
   "metadata": {
    "ExecuteTime": {
     "end_time": "2021-01-30T05:59:47.021059Z",
     "start_time": "2021-01-30T05:59:45.283747Z"
    }
   },
   "outputs": [
    {
     "name": "stdout",
     "output_type": "stream",
     "text": [
      "Decision Trees, Score on training set: 0.6159451350192885, score on test set: 0.6158791385406621\n"
     ]
    }
   ],
   "source": [
    "dt = DecisionTreeClassifier(max_depth=4, min_samples_split=13,\n",
    "                            min_samples_leaf=5,\n",
    "                            ccp_alpha=0.05,\n",
    "                            random_state=42)\n",
    "p_stemmer = PorterStemmer()\n",
    "dt_cvec = CountVectorizer(analyzer=\"word\",\n",
    "                          preprocessor=None,\n",
    "                          stop_words=combined_words,\n",
    "                          max_features=100,\n",
    "                          ngram_range=(1, 1)\n",
    "                          )\n",
    "dt_pipe = Pipeline([\n",
    "    ('cvec', dt_cvec),\n",
    "    ('dt', dt)\n",
    "])\n",
    "\n",
    "dt_pipe.fit(X_train, y_train)\n",
    "\n",
    "dt_train = dt_pipe.score(X_train, y_train)\n",
    "dt_test = dt_pipe.score(X_test, y_test)\n",
    "\n",
    "print(\n",
    "    f'Decision Trees, Score on training set: {dt_train}, score on test set: {dt_test}')"
   ]
  },
  {
   "cell_type": "code",
   "execution_count": 15,
   "metadata": {
    "ExecuteTime": {
     "end_time": "2021-01-30T05:28:10.846655Z",
     "start_time": "2021-01-30T05:28:09.459474Z"
    }
   },
   "outputs": [
    {
     "data": {
      "text/plain": [
       "<sklearn.metrics._plot.confusion_matrix.ConfusionMatrixDisplay at 0x237ecf5cb50>"
      ]
     },
     "execution_count": 15,
     "metadata": {},
     "output_type": "execute_result"
    },
    {
     "data": {
      "image/png": "[encoded data removed]",
      "text/plain": [
       "<Figure size 432x288 with 2 Axes>"
      ]
     },
     "metadata": {},
     "output_type": "display_data"
    }
   ],
   "source": [
    "plot_confusion_matrix(dt_pipe, X_test, y_test)"
   ]
  },
  {
   "cell_type": "code",
   "execution_count": 26,
   "metadata": {
    "ExecuteTime": {
     "end_time": "2021-01-30T06:27:03.923183Z",
     "start_time": "2021-01-30T06:26:51.231651Z"
    }
   },
   "outputs": [
    {
     "name": "stdout",
     "output_type": "stream",
     "text": [
      "Random Forest, score on training set: 0.991213030432919, score on test set: 0.8227793849780349.\n"
     ]
    }
   ],
   "source": [
    "rf_cvec = CountVectorizer(analyzer = \"word\",\n",
    "                       preprocessor = None,\n",
    "                       stop_words = combined_words, \n",
    "                       max_features = 1000, \n",
    "                       ngram_range = (1, 4)\n",
    "                      )\n",
    "                    \n",
    "rf = RandomForestClassifier(random_state = 42, n_estimators = 25)\n",
    "rf_pipe = Pipeline([\n",
    "    ('cvec', rf_cvec),\n",
    "    ('rf', rf)\n",
    "])\n",
    "rf_pipe.fit(X_train, y_train)\n",
    "rf_train = rf_pipe.score(X_train, y_train)\n",
    "rf_test = rf_pipe.score(X_test, y_test)\n",
    "print(f'Random Forest, score on training set: {rf_train}, score on test set: {rf_test}.')"
   ]
  },
  {
   "cell_type": "code",
   "execution_count": 27,
   "metadata": {
    "ExecuteTime": {
     "end_time": "2021-01-30T06:27:05.511438Z",
     "start_time": "2021-01-30T06:27:03.925177Z"
    }
   },
   "outputs": [
    {
     "data": {
      "text/plain": [
       "<sklearn.metrics._plot.confusion_matrix.ConfusionMatrixDisplay at 0x237ecb51220>"
      ]
     },
     "execution_count": 27,
     "metadata": {},
     "output_type": "execute_result"
    },
    {
     "data": {
      "image/png": "[encoded data removed]",
      "text/plain": [
       "<Figure size 432x288 with 2 Axes>"
      ]
     },
     "metadata": {},
     "output_type": "display_data"
    }
   ],
   "source": [
    "plot_confusion_matrix(rf_pipe, X_test, y_test)"
   ]
  },
  {
   "cell_type": "code",
   "execution_count": null,
   "metadata": {
    "ExecuteTime": {
     "end_time": "2021-01-30T05:28:10.866604Z",
     "start_time": "2021-01-30T05:27:28.259Z"
    }
   },
   "outputs": [],
   "source": [
    "svc_cvec = CountVectorizer(analyzer = \"word\",\n",
    "                       preprocessor = None,\n",
    "                       stop_words = combined_words, \n",
    "                       max_features = 2000, \n",
    "                       ngram_range = (1, 1),\n",
    "                      )\n",
    "\n",
    "pgrid = {\"svc__C\": np.linspace(0.01, 1, 20)}\n",
    "\n",
    "svc = SVC(max_iter=7000, tol=0.1) # model object\n",
    "\n",
    "svc_sc = StandardScaler(with_mean=False)\n",
    "\n",
    "svc_pipe = Pipeline([\n",
    "    ('cvec', svc_cvec),\n",
    "    ('sc', svc_sc),\n",
    "    ('svc', svc)\n",
    "])\n",
    "\n",
    "svc_grid = GridSearchCV(svc_pipe,\n",
    "                        pgrid,\n",
    "                        cv = 5)\n",
    "\n",
    "svc_grid.fit(X_train, y_train)\n",
    "svc_train = svc_grid.score(X_train, y_train)\n",
    "svc_test = svc_grid.score(X_test, y_test)\n",
    "print(f'SVC, score on training set: {svc_train}, score on test set: {svc_test}.')"
   ]
  },
  {
   "cell_type": "code",
   "execution_count": null,
   "metadata": {
    "ExecuteTime": {
     "end_time": "2021-01-30T05:28:10.867598Z",
     "start_time": "2021-01-30T05:27:28.261Z"
    }
   },
   "outputs": [],
   "source": [
    "plot_confusion_matrix(svc_grid, X_test, y_test)"
   ]
  },
  {
   "cell_type": "code",
   "execution_count": null,
   "metadata": {
    "ExecuteTime": {
     "end_time": "2021-01-30T05:28:10.868596Z",
     "start_time": "2021-01-30T05:27:28.262Z"
    }
   },
   "outputs": [],
   "source": [
    "preds = grid.predict(X_test)"
   ]
  },
  {
   "cell_type": "code",
   "execution_count": null,
   "metadata": {
    "ExecuteTime": {
     "end_time": "2021-01-30T05:28:10.869595Z",
     "start_time": "2021-01-30T05:27:28.263Z"
    }
   },
   "outputs": [],
   "source": [
    "grid = GridSearchCV(estimator=dt,\n",
    "                    param_grid={'max_depth': [2,3,5,7],\n",
    "                               'min_samples_split': [5,10,15,20],\n",
    "                               'min_samples_leaf': [2,3,4,5,6],\n",
    "                               'ccp_alpha': [0,0.001, 0.01, 0.1, 1, 10]},\n",
    "                    cv = 5,\n",
    "                    verbose = 1)\n",
    "\n",
    "grid.fit(X_train, y_train);"
   ]
  },
  {
   "cell_type": "code",
   "execution_count": null,
   "metadata": {
    "ExecuteTime": {
     "end_time": "2021-01-30T05:28:10.870592Z",
     "start_time": "2021-01-30T05:27:28.265Z"
    }
   },
   "outputs": [],
   "source": [
    "# # notes for future improvements\n",
    "\n",
    "# most common ten words\n",
    "\n",
    "# Tiffydiff\n",
    "\n",
    "# Lemma/stem\n",
    "\n",
    "# plot ROC curve\n",
    "\n",
    "# explain choice of measurement\n",
    "\n",
    "# pull out misclassifications to examine\n",
    "\n",
    "# "
   ]
  },
  {
   "cell_type": "code",
   "execution_count": null,
   "metadata": {},
   "outputs": [],
   "source": []
  }
 ],
 "metadata": {
  "kernelspec": {
   "display_name": "Python 3",
   "language": "python",
   "name": "python3"
  },
  "language_info": {
   "codemirror_mode": {
    "name": "ipython",
    "version": 3
   },
   "file_extension": ".py",
   "mimetype": "text/x-python",
   "name": "python",
   "nbconvert_exporter": "python",
   "pygments_lexer": "ipython3",
   "version": "3.8.5"
  }
 },
 "nbformat": 4,
 "nbformat_minor": 4
}
