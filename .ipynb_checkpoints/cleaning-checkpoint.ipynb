{
 "cells": [
  {
   "cell_type": "code",
   "execution_count": 1,
   "metadata": {
    "ExecuteTime": {
     "end_time": "2021-01-29T01:46:42.934520Z",
     "start_time": "2021-01-29T01:46:42.566569Z"
    }
   },
   "outputs": [],
   "source": [
    "import pandas as pd"
   ]
  },
  {
   "cell_type": "code",
   "execution_count": 2,
   "metadata": {
    "ExecuteTime": {
     "end_time": "2021-01-29T01:46:43.072984Z",
     "start_time": "2021-01-29T01:46:42.935516Z"
    }
   },
   "outputs": [],
   "source": [
    "df1 = pd.read_csv('./data/askhistorians.csv')"
   ]
  },
  {
   "cell_type": "code",
   "execution_count": 3,
   "metadata": {
    "ExecuteTime": {
     "end_time": "2021-01-29T01:46:43.150811Z",
     "start_time": "2021-01-29T01:46:43.075976Z"
    }
   },
   "outputs": [],
   "source": [
    "whatif_1 = pd.read_csv('./data/whatif.csv')\n",
    "whatif_2 = pd.read_csv('./data/whatif2.csv')"
   ]
  },
  {
   "cell_type": "code",
   "execution_count": 4,
   "metadata": {
    "ExecuteTime": {
     "end_time": "2021-01-29T01:46:43.166768Z",
     "start_time": "2021-01-29T01:46:43.151772Z"
    }
   },
   "outputs": [],
   "source": [
    "df2 = whatif_1.append(whatif_2)"
   ]
  },
  {
   "cell_type": "code",
   "execution_count": 5,
   "metadata": {
    "ExecuteTime": {
     "end_time": "2021-01-29T01:46:43.197472Z",
     "start_time": "2021-01-29T01:46:43.167730Z"
    }
   },
   "outputs": [],
   "source": [
    "df1.drop_duplicates(subset='selftext', inplace=True)"
   ]
  },
  {
   "cell_type": "code",
   "execution_count": 6,
   "metadata": {
    "ExecuteTime": {
     "end_time": "2021-01-29T01:46:43.227392Z",
     "start_time": "2021-01-29T01:46:43.199466Z"
    }
   },
   "outputs": [],
   "source": [
    "df2.drop_duplicates(subset='selftext', inplace=True)"
   ]
  },
  {
   "cell_type": "code",
   "execution_count": 7,
   "metadata": {
    "ExecuteTime": {
     "end_time": "2021-01-29T01:46:43.259339Z",
     "start_time": "2021-01-29T01:46:43.228389Z"
    }
   },
   "outputs": [
    {
     "data": {
      "text/plain": [
       "0        False\n",
       "1        False\n",
       "2        False\n",
       "3         True\n",
       "4        False\n",
       "         ...  \n",
       "23934    False\n",
       "23936    False\n",
       "23938    False\n",
       "23939    False\n",
       "23940    False\n",
       "Name: selftext, Length: 14371, dtype: bool"
      ]
     },
     "execution_count": 7,
     "metadata": {},
     "output_type": "execute_result"
    }
   ],
   "source": [
    "df1['selftext'].isnull() == True"
   ]
  },
  {
   "cell_type": "code",
   "execution_count": 8,
   "metadata": {
    "ExecuteTime": {
     "end_time": "2021-01-29T01:46:43.274266Z",
     "start_time": "2021-01-29T01:46:43.261301Z"
    }
   },
   "outputs": [
    {
     "data": {
      "text/plain": [
       "Unnamed: 0                                                      3\n",
       "title           When did science as we know it today begin to ...\n",
       "selftext                                                      NaN\n",
       "subreddit                                           AskHistorians\n",
       "created_utc                                            1610776066\n",
       "author                                       Regular-Instruction9\n",
       "num_comments                                                    2\n",
       "score                                                           1\n",
       "is_self                                                      True\n",
       "timestamp                                              2021-01-16\n",
       "Name: 3, dtype: object"
      ]
     },
     "execution_count": 8,
     "metadata": {},
     "output_type": "execute_result"
    }
   ],
   "source": [
    "df1.iloc[3]"
   ]
  },
  {
   "cell_type": "markdown",
   "metadata": {},
   "source": [
    "This question was deleted, so I will remove it from my dataset."
   ]
  },
  {
   "cell_type": "code",
   "execution_count": 9,
   "metadata": {
    "ExecuteTime": {
     "end_time": "2021-01-29T01:46:43.290080Z",
     "start_time": "2021-01-29T01:46:43.275264Z"
    }
   },
   "outputs": [],
   "source": [
    "df1.drop([3], inplace=True)"
   ]
  },
  {
   "cell_type": "code",
   "execution_count": 10,
   "metadata": {
    "ExecuteTime": {
     "end_time": "2021-01-29T01:46:43.535931Z",
     "start_time": "2021-01-29T01:46:43.291077Z"
    }
   },
   "outputs": [],
   "source": [
    "df1.to_csv('./data/askhistorians_clean.csv')"
   ]
  },
  {
   "cell_type": "code",
   "execution_count": 11,
   "metadata": {
    "ExecuteTime": {
     "end_time": "2021-01-29T01:46:43.550890Z",
     "start_time": "2021-01-29T01:46:43.537925Z"
    }
   },
   "outputs": [
    {
     "data": {
      "text/plain": [
       "Unnamed: 0      0\n",
       "title           0\n",
       "selftext        1\n",
       "subreddit       0\n",
       "created_utc     0\n",
       "author          0\n",
       "num_comments    0\n",
       "score           0\n",
       "is_self         0\n",
       "timestamp       0\n",
       "dtype: int64"
      ]
     },
     "execution_count": 11,
     "metadata": {},
     "output_type": "execute_result"
    }
   ],
   "source": [
    "df2.isnull().sum()"
   ]
  },
  {
   "cell_type": "code",
   "execution_count": 12,
   "metadata": {
    "ExecuteTime": {
     "end_time": "2021-01-29T01:46:43.566849Z",
     "start_time": "2021-01-29T01:46:43.552889Z"
    }
   },
   "outputs": [
    {
     "data": {
      "text/plain": [
       "0        True\n",
       "1       False\n",
       "2       False\n",
       "3       False\n",
       "4       False\n",
       "        ...  \n",
       "4282    False\n",
       "4283    False\n",
       "4286    False\n",
       "4287    False\n",
       "4289    False\n",
       "Name: selftext, Length: 8963, dtype: bool"
      ]
     },
     "execution_count": 12,
     "metadata": {},
     "output_type": "execute_result"
    }
   ],
   "source": [
    "df2['selftext'].isnull() == True"
   ]
  },
  {
   "cell_type": "code",
   "execution_count": 13,
   "metadata": {
    "ExecuteTime": {
     "end_time": "2021-01-29T01:46:43.582317Z",
     "start_time": "2021-01-29T01:46:43.567848Z"
    }
   },
   "outputs": [
    {
     "data": {
      "text/plain": [
       "Unnamed: 0                                                      0\n",
       "title           What would the world be today if the Egyptians...\n",
       "selftext                                                      NaN\n",
       "subreddit                                        HistoricalWhatIf\n",
       "created_utc                                            1610813519\n",
       "author                                           userthecruiser02\n",
       "num_comments                                                    8\n",
       "score                                                           1\n",
       "is_self                                                      True\n",
       "timestamp                                              2021-01-16\n",
       "Name: 0, dtype: object"
      ]
     },
     "execution_count": 13,
     "metadata": {},
     "output_type": "execute_result"
    }
   ],
   "source": [
    "df2.iloc[0]"
   ]
  },
  {
   "cell_type": "markdown",
   "metadata": {},
   "source": [
    "Same story with this one, the post was deleted, so I will also delete it."
   ]
  },
  {
   "cell_type": "code",
   "execution_count": 14,
   "metadata": {
    "ExecuteTime": {
     "end_time": "2021-01-29T01:46:43.598276Z",
     "start_time": "2021-01-29T01:46:43.584311Z"
    }
   },
   "outputs": [],
   "source": [
    "df2.drop([0], inplace=True)"
   ]
  },
  {
   "cell_type": "code",
   "execution_count": 15,
   "metadata": {
    "ExecuteTime": {
     "end_time": "2021-01-29T01:46:43.737167Z",
     "start_time": "2021-01-29T01:46:43.599273Z"
    }
   },
   "outputs": [],
   "source": [
    "df2.to_csv('./data/whatif_clean.csv')"
   ]
  }
 ],
 "metadata": {
  "kernelspec": {
   "display_name": "Python 3",
   "language": "python",
   "name": "python3"
  },
  "language_info": {
   "codemirror_mode": {
    "name": "ipython",
    "version": 3
   },
   "file_extension": ".py",
   "mimetype": "text/x-python",
   "name": "python",
   "nbconvert_exporter": "python",
   "pygments_lexer": "ipython3",
   "version": "3.8.5"
  }
 },
 "nbformat": 4,
 "nbformat_minor": 4
}
